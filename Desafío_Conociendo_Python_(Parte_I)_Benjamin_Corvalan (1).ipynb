{
  "nbformat": 4,
  "nbformat_minor": 0,
  "metadata": {
    "colab": {
      "provenance": []
    },
    "kernelspec": {
      "name": "python3",
      "display_name": "Python 3"
    },
    "language_info": {
      "name": "python"
    }
  },
  "cells": [
    {
      "cell_type": "markdown",
      "source": [
        "**Calculando el salario semanal**\n",
        "\n",
        "Un vendedor gana un salario base de $500 más una comisión del 10% sobre sus\n",
        "ventas totales.\n",
        "\n",
        "Escribe un programa donde se pueda ingresar el monto de las ventas\n",
        "totales del vendedor y calcule su salario total."
      ],
      "metadata": {
        "id": "KVEFNqnd6xN9"
      }
    },
    {
      "cell_type": "code",
      "execution_count": 2,
      "metadata": {
        "id": "2xcMQbEBUF8r",
        "colab": {
          "base_uri": "https://localhost:8080/"
        },
        "outputId": "29927a8e-f327-4581-a35b-86066268ac6f"
      },
      "outputs": [
        {
          "output_type": "stream",
          "name": "stdout",
          "text": [
            "Ingrese el monto de las ventas totales: 100\n",
            "Salario total del vendedor es: $ 510.0\n"
          ]
        }
      ],
      "source": [
        "#Salario base vendedor\n",
        "salario_base = 500\n",
        "\n",
        "#Porcentaje comisión sobre las ventas\n",
        "comision = 0.10\n",
        "\n",
        "#Input para solicitar al usuario que ingrese las ventas totales\n",
        "ventas_totales = float(input(\"Ingrese el monto de las ventas totales: \"))\n",
        "\n",
        "#Calcular la comisión ganada\n",
        "comision_ganada = ventas_totales * comision\n",
        "\n",
        "#Calcular el salario total\n",
        "salario_total = salario_base + comision_ganada\n",
        "\n",
        "#Salario total\n",
        "print(\"Salario total del vendedor es: $\", salario_total)"
      ]
    },
    {
      "cell_type": "markdown",
      "source": [
        "Bienvenido a la frutería virtual\n",
        "\n",
        "En este ejercicio, vamos a crear un diccionario vacío llamado catalogo_frutas {'fruta':\n",
        "precio} y agregar algunas frutas con sus precios.\n",
        "\n",
        "Luego, le pediremos al usuario que ingrese el nombre de una fruta y verificaremos si esa fruta está en el diccionario.\n",
        "\n",
        "Si la fruta está en el diccionario, mostraremos el precio al usuario.\n",
        "\n",
        "Si la fruta no está en el diccionario, le diremos al usuario que no se encuentra esa fruta en nuestra tienda."
      ],
      "metadata": {
        "id": "Zl9pPadv62AA"
      }
    },
    {
      "cell_type": "code",
      "source": [
        "#diccionario vacío catálogo de frutas\n",
        "catalogo_frutas = {'manzana' : 200, 'pera': 200, 'naranja': 100, 'mandarina': 100}\n",
        "\n",
        "#Usuario ingresa el nombre de una fruta\n",
        "fruta = input(\"Ingrese el nombre de una fruta: \")\n",
        "\n",
        "#Verificar si la fruta está en la tienda\n",
        "if fruta in catalogo_frutas:\n",
        "#Mostrar el precio de la fruta\n",
        "  print(\"El precio de la\", fruta, \"es $\", catalogo_frutas[fruta])\n",
        "else:\n",
        "#Else para cuando la fruta no esta en la tienda\n",
        "  print(\"Lo siento, no tenemos\", fruta, \"en nuestra tienda.\")"
      ],
      "metadata": {
        "colab": {
          "base_uri": "https://localhost:8080/"
        },
        "id": "HWZWEG8h7nQ_",
        "outputId": "1704e092-4295-4275-c2a0-1ea42121f817"
      },
      "execution_count": 5,
      "outputs": [
        {
          "output_type": "stream",
          "name": "stdout",
          "text": [
            "Ingrese el nombre de una fruta: mandarina\n",
            "El precio de la mandarina es $ 100\n"
          ]
        }
      ]
    },
    {
      "cell_type": "markdown",
      "source": [
        "**Bienvenido al casino**\n",
        "\n",
        "En este juego, tienes que lanzar dos dados y el programa mostrará los valores\n",
        "obtenidos en cada dado y la suma de ambos valores.\n",
        "\n",
        "Debes generar dos números aleatorios entre 1 y 6 que representan los valores obtenidos en cada dado usando la librería random.\n",
        "\n",
        "Luego, el programa debe mostrar los valores obtenidos en cada dado y la suma de ambos valores en la pantalla.\n"
      ],
      "metadata": {
        "id": "h9ePZirP8xOF"
      }
    },
    {
      "cell_type": "code",
      "source": [
        "import random\n",
        "\n",
        "#Dos dados\n",
        "dado_blanco = random.randint(1, 6)\n",
        "dado_negro = random.randint(1, 6)\n",
        "\n",
        "#Suma del dado 1 y 2\n",
        "suma = dado_blanco + dado_negro\n",
        "\n",
        "#Resultados\n",
        "print(\"Valor primer dado blanco\", dado_blanco)\n",
        "print(\"Valor segundo dado negro:\", dado_negro)\n",
        "print(\"La suma de los dados es:\", suma)"
      ],
      "metadata": {
        "colab": {
          "base_uri": "https://localhost:8080/"
        },
        "id": "WinOBv3Y8wRe",
        "outputId": "cb74e0dd-c3b8-4b79-f2ae-61cca10ccfd8"
      },
      "execution_count": 13,
      "outputs": [
        {
          "output_type": "stream",
          "name": "stdout",
          "text": [
            "Valor primer dado blanco 1\n",
            "Valor segundo dado negro: 6\n",
            "La suma de los dados es: 7\n"
          ]
        }
      ]
    },
    {
      "cell_type": "markdown",
      "source": [
        "**Calculadora de chocolate**\n",
        "\n",
        "Crea un programa que calcule la cantidad de chocolate que puedes comer sin\n",
        "pasarte de tu límite diario de calorías.\n",
        "\n",
        "El programa debe preguntar al usuario su límite diario de calorías y la cantidad de calorías que tiene una porción de chocolate.\n",
        "\n",
        "Luego, debe calcular la cantidad máxima de chocolate que se puede comer sin\n",
        "exceder el límite diario de calorías y mostrarla en pantalla."
      ],
      "metadata": {
        "id": "8B-vRP6r-Nkl"
      }
    },
    {
      "cell_type": "code",
      "source": [
        "#Solicitar al usuario el límite diario de calorías\n",
        "limite_calorias = int(input(\"Ingrese su límite diario de calorías: \"))\n",
        "#Solicitar al usuario la cantidad de calorías por porción de chocolate\n",
        "calorias_porcion = int(input(\"Ingrese la cantidad de calorías por porción de chocolate: \"))\n",
        "#Calcular la cantidad máxima de chocolate que el usuario puede comer.\n",
        "max_porciones = limite_calorias // calorias_porcion\n",
        "#Mostramos el resultado con la variable max_porciones concatenada por textos\n",
        "#(le agrego porcion*(es)* para hacerlo mas amigable).\n",
        "print(\"Puede comer un máximo de\", max_porciones, \"porcion(es) de chocolate.\")"
      ],
      "metadata": {
        "colab": {
          "base_uri": "https://localhost:8080/"
        },
        "id": "RXojghxg-NuV",
        "outputId": "1adfb9a5-1a74-4095-89ee-b3e02e5dcc71"
      },
      "execution_count": 17,
      "outputs": [
        {
          "output_type": "stream",
          "name": "stdout",
          "text": [
            "Ingrese su límite diario de calorías: 100\n",
            "Ingrese la cantidad de calorías por porción de chocolate: 100\n",
            "Puede comer un máximo de 1 porcion(es) de chocolate.\n"
          ]
        }
      ]
    }
  ]
}