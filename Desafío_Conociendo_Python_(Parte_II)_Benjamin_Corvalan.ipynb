{
  "nbformat": 4,
  "nbformat_minor": 0,
  "metadata": {
    "colab": {
      "provenance": []
    },
    "kernelspec": {
      "name": "python3",
      "display_name": "Python 3"
    },
    "language_info": {
      "name": "python"
    }
  },
  "cells": [
    {
      "cell_type": "markdown",
      "source": [
        "1. Ejercicio 1: Suma de números pares\n",
        "\n",
        "Escribe un programa que pida al usuario **dos números enteros** y calcule la **suma** de todos los **números pares** entre ellos. El programa deberá imprimir el resultado. (hint: utilice la función **range()** para generar la secuencia de números enteros)"
      ],
      "metadata": {
        "id": "q_9klmKzIIqx"
      }
    },
    {
      "cell_type": "code",
      "source": [
        "#Solicitar dos números enteros\n",
        "numero_1 = int(input(\"Ingresar primer número entero: \"))\n",
        "numero_2 = int(input(\"Ingresar segundo número entero: \"))\n",
        "\n",
        "#Validar que numero_1 sea el menor y numero_2 sea el mayor\n",
        "if numero_1 > numero_2:\n",
        "    numero_1, numero_2 = numero_2, numero_1\n",
        "\n",
        "#Calcular la suma de todos los números pares entre numero_1 y numero_2\n",
        "suma_pares = sum(num for num in range(numero_1, numero_2 + 1) if num % 2 == 0)\n",
        "# Imprimir resultado\n",
        "print(f\"La suma de todos los números pares entre {numero_1} y {numero_2} es: {suma_pares}\")"
      ],
      "metadata": {
        "colab": {
          "base_uri": "https://localhost:8080/"
        },
        "id": "-I9JZEmmJUOI",
        "outputId": "d036879c-3a4e-4f41-8671-25b121c519c0"
      },
      "execution_count": 4,
      "outputs": [
        {
          "output_type": "stream",
          "name": "stdout",
          "text": [
            "Ingresar primer número entero: 10\n",
            "Ingresar segundo número entero: 10\n",
            "La suma de todos los números pares entre 10 y 10 es: 10\n"
          ]
        }
      ]
    },
    {
      "cell_type": "markdown",
      "source": [
        "2. Ejercicio 2: Calculadora de áreas\n",
        "\n",
        "Escribe un programa que pida al usuario el tipo de figura geométrica de la que quiere\n",
        "calcular el área (cuadrado, triángulo o círculo) y las medidas correspondientes. El\n",
        "programa deberá calcular y mostrar el área de la figura seleccionada. (hint: para\n",
        "obtener el número pi puedes utilizar la librería math)\n"
      ],
      "metadata": {
        "id": "sEBUKHs_IChx"
      }
    },
    {
      "cell_type": "code",
      "source": [
        "#Primero Importamos el modulo math\n",
        "import math\n",
        "#Definimos una función para calcular el área del cuadrado\n",
        "def area_cuadrado(lado):\n",
        "    return lado * lado\n",
        "#Definimos una función para calcular el área del triángulo\n",
        "def area_triangulo(base, altura):\n",
        "    return (base * altura) / 2\n",
        "#Definimos una función para calcular el área del círculo\n",
        "def area_circulo(radio):\n",
        "    return math.pi * radio * radio\n",
        "\n",
        "#Solicitar una figura y me aseguro formateando el texto para las siguientes operaciones, quizas podriamos optimizar el manejo del input del usuario por los tildes.\n",
        "figura = input(\"Ingrese el tipo de figura disponible (cuadrado, triángulo, círculo): \").strip().lower()\n",
        "\n",
        "#calcular el área según la figura seleccionada\n",
        "if figura == \"cuadrado\":\n",
        "    lado = float(input(\"Ingrese la medida del lado del cuadrado: \"))\n",
        "    area = area_cuadrado(lado)\n",
        "    print(f\"El área del cuadrado es: {area}\")\n",
        "#aca basicamente lo mismo pero tenemos dos parametros base y altura\n",
        "elif figura == \"triángulo\" or figura == \"triangulo\":\n",
        "    base = float(input(\"Ingrese la medida de la base del triángulo: \"))\n",
        "    altura = float(input(\"Ingrese la medida de la altura del triángulo: \"))\n",
        "    area = area_triangulo(base, altura)\n",
        "    print(f\"El área del triángulo es: {area}\")\n",
        "\n",
        "elif figura == \"círculo\" or figura == \"circulo\":\n",
        "    radio = float(input(\"Ingrese la medida del radio del círculo: \"))\n",
        "    area = area_circulo(radio)\n",
        "    print(f\"El área del círculo es: {area}\")\n",
        "\n",
        "else:\n",
        "    print(\"Figura no valida, Por favor, ingrese cuadrado, triángulo o círculo.\")"
      ],
      "metadata": {
        "colab": {
          "base_uri": "https://localhost:8080/"
        },
        "id": "iE_-dAoOWPYZ",
        "outputId": "ae7802a7-a1df-444e-f70c-d613fb4f3a2b"
      },
      "execution_count": 7,
      "outputs": [
        {
          "output_type": "stream",
          "name": "stdout",
          "text": [
            "Ingrese el tipo de figura disponible (cuadrado, triángulo, círculo): circulo\n",
            "Ingrese la medida del radio del círculo: 10\n",
            "El área del círculo es: 314.1592653589793\n"
          ]
        }
      ]
    },
    {
      "cell_type": "markdown",
      "source": [
        "3. Ejercicio 3: Adivina el número\n",
        "\n",
        "Escribe un programa que genere un número aleatorio entre 1 y 100 y pida al usuario que adivine cuál es.\n",
        "\n",
        "El programa deberá dar pistas al usuario diciendo si el número que ha introducido es mayor o menor que el número aleatorio.\n",
        "\n",
        "El programa deberá continuar pidiendo números hasta que el usuario adivine el número correcto. (hint: utiliza un ciclo while para mantener al programa pidiendo números)\n"
      ],
      "metadata": {
        "id": "dEGQznoRIDXz"
      }
    },
    {
      "cell_type": "code",
      "source": [
        "import random\n",
        "\n",
        "#Primero generamos el número aleatorio entre 1 y 100\n",
        "numero_aleatorio = random.randint(1, 100)\n",
        "\n",
        "#variable de intento del usuario\n",
        "intento = None\n",
        "\n",
        "#Pedir intentos hasta que el usuario adivine el número\n",
        "#una condicion que permita repetir hasta que sean iguales los numeros.\n",
        "while intento != numero_aleatorio:\n",
        "#Input para que el usuario intente.\n",
        "    intento = int(input(\"Adivina el número entre 1 y 100: \"))\n",
        "\n",
        "#proporcionar pistas al usuario\n",
        "    if intento < numero_aleatorio:\n",
        "        print(\"Falto un poco mas!, el número es mayor. Vuelve a intentar.\")\n",
        "    elif intento > numero_aleatorio:\n",
        "        print(\" Te pasaste!, El número es menor. Vuelve a intentar.\")\n",
        "    else:\n",
        "        print(f\"¡Lo lograste! Adivinaste el número!!! es: {numero_aleatorio}.\")"
      ],
      "metadata": {
        "colab": {
          "base_uri": "https://localhost:8080/"
        },
        "id": "XYYIHSsde1NS",
        "outputId": "400b4d29-d7e9-4873-a9f7-f719def5a2df"
      },
      "execution_count": 9,
      "outputs": [
        {
          "output_type": "stream",
          "name": "stdout",
          "text": [
            "Adivina el número entre 1 y 100: 50\n",
            "Falto un poco mas!, el número es mayor. Vuelve a intentar.\n",
            "Adivina el número entre 1 y 100: 60\n",
            "Falto un poco mas!, el número es mayor. Vuelve a intentar.\n",
            "Adivina el número entre 1 y 100: 70\n",
            "Falto un poco mas!, el número es mayor. Vuelve a intentar.\n",
            "Adivina el número entre 1 y 100: 80\n",
            "Falto un poco mas!, el número es mayor. Vuelve a intentar.\n",
            "Adivina el número entre 1 y 100: 90\n",
            "¡Lo lograste! Adivinaste el número!!! es: 90.\n"
          ]
        }
      ]
    },
    {
      "cell_type": "markdown",
      "source": [
        "4. Ejercicio 4: ¡Maratón de caracoles!\n",
        "\n",
        "Crea un programa que simule un caracol que va corriendo una maratón.\n",
        "\n",
        "Pide al usuario que ingrese la velocidad a la que puede correr el caracol. Debes usar un ciclo while, para ir mostrando un emoji de caracol 🐌 que se vaya moviendo hacia la derecha en cada impresión, el avance del caracol debe visualizarse de esta forma:\n",
        "__________ 🐌\n",
        "____________________ 🐌\n",
        "______________________________ 🐌\n",
        "________________________________________ 🐌\n",
        "__________________________________________________ 🐌\n",
        "____________________________________________________________ 🐌\n",
        "______________________________________________________________________ 🐌\n",
        "________________________________________________________________________________ 🐌\n",
        "__________________________________________________________________________________________ 🐌\n"
      ],
      "metadata": {
        "id": "MBahlGYIIgrM"
      }
    },
    {
      "cell_type": "code",
      "source": [
        "import time\n",
        "\n",
        "#solicitar al usuario la velocidad del caracol\n",
        "velocidad = float(input(\"a que velocidad corre el caracol?: \"))\n",
        "\n",
        "#Le indicamos cual es el inicio y final\n",
        "posicion = 0\n",
        "longitud_maratón = 100\n",
        "\n",
        "#ciclo while que mueve el caracol hacia la derecha\n",
        "while posicion < longitud_maratón:\n",
        "    #Creamos la \"Pista\" por la posicion y le agregamos un icono de caracol string\n",
        "    pista = \"_\" * posicion + \"🐌️‍🔥\"\n",
        "    print(pista)\n",
        "\n",
        "    #generamos un incremento de la posicion\n",
        "    posicion += 10\n",
        "    # Despues en base lo que diga el usuario es el tiempo de espera\n",
        "    time.sleep(velocidad)\n",
        "\n",
        "print(f\"¡Caracol llego a la meta a una velocidad de: {velocidad} 🏁!\")"
      ],
      "metadata": {
        "colab": {
          "base_uri": "https://localhost:8080/"
        },
        "id": "bxEpCPVaiigP",
        "outputId": "48c3ba12-bcb1-4180-bf83-fb855d51727a"
      },
      "execution_count": 16,
      "outputs": [
        {
          "output_type": "stream",
          "name": "stdout",
          "text": [
            "a que velocidad corre el caracol?: 1\n",
            "🐌️‍🔥\n",
            "__________🐌️‍🔥\n",
            "____________________🐌️‍🔥\n",
            "______________________________🐌️‍🔥\n",
            "________________________________________🐌️‍🔥\n",
            "__________________________________________________🐌️‍🔥\n",
            "____________________________________________________________🐌️‍🔥\n",
            "______________________________________________________________________🐌️‍🔥\n",
            "________________________________________________________________________________🐌️‍🔥\n",
            "__________________________________________________________________________________________🐌️‍🔥\n",
            "¡Caracol llego a la meta a una velocidad de: 1.0 🏁!\n"
          ]
        }
      ]
    }
  ]
}