{
  "nbformat": 4,
  "nbformat_minor": 0,
  "metadata": {
    "colab": {
      "provenance": []
    },
    "kernelspec": {
      "name": "python3",
      "display_name": "Python 3"
    },
    "language_info": {
      "name": "python"
    }
  },
  "cells": [
    {
      "cell_type": "markdown",
      "source": [
        "**Desafío - Transformación y manipulación de\n",
        "datos (Parte II)**\n",
        "\n",
        "Benjamin Corvalan P."
      ],
      "metadata": {
        "id": "Cf9l2XP9VHbG"
      }
    },
    {
      "cell_type": "markdown",
      "source": [
        "**Descripción**\n",
        "\n",
        "\n",
        "La empresa ADL se dedica a la venta de productos a nivel regional en los Estados Unidos, con equipos de ventas que operan en diferentes estados.\n",
        "\n",
        "La compañía ha establecido un sistema de comisiones para incentivar a sus equipos de ventas a preferir la venta de productos de alto margen antes que los de bajo margen de utilidad.\n",
        "\n",
        "\n",
        "Como Analista de Datos, le solicitan analizar información sobre las ventas realizadas por los equipos de ventas de ADL, incluyendo detalles sobre los productos vendidos, los clientes, las fechas de los pedidos y los plazos de entrega.\n"
      ],
      "metadata": {
        "id": "QkMOO943VflE"
      }
    },
    {
      "cell_type": "code",
      "execution_count": 1,
      "metadata": {
        "id": "eouWEyaVQY8U"
      },
      "outputs": [],
      "source": [
        "import pandas as pd\n",
        "import numpy as np"
      ]
    },
    {
      "cell_type": "markdown",
      "source": [
        "1. Carga los datos de cada pestaña del archivo US_Regional_Sales_Data.xlsx en un\n",
        "DataFrame independiente. (hint: Puedes obtener los nombres de las hojas usando\n",
        "pd.ExcelFile(archivo).sheet_names)\n"
      ],
      "metadata": {
        "id": "0f9GIsLYVu95"
      }
    },
    {
      "cell_type": "code",
      "source": [
        "pd.ExcelFile('US_Regional_Sales_Data.xlsx').sheet_names"
      ],
      "metadata": {
        "colab": {
          "base_uri": "https://localhost:8080/"
        },
        "id": "LJ5tFF3RVuSJ",
        "outputId": "ba5808c4-9183-4cac-e559-bcdd84e64b1d"
      },
      "execution_count": 2,
      "outputs": [
        {
          "output_type": "execute_result",
          "data": {
            "text/plain": [
              "['Sales Orders Sheet',\n",
              " 'Customers Sheet',\n",
              " 'Store Locations Sheet',\n",
              " 'Products Sheet',\n",
              " 'Sales Team Sheet']"
            ]
          },
          "metadata": {},
          "execution_count": 2
        }
      ]
    },
    {
      "cell_type": "code",
      "source": [
        "sales_df = pd.read_excel(\"US_Regional_Sales_Data.xlsx\", sheet_name='Sales Orders Sheet')\n",
        "customers_df = pd.read_excel(\"US_Regional_Sales_Data.xlsx\", sheet_name='Customers Sheet')\n",
        "stores_df = pd.read_excel(\"US_Regional_Sales_Data.xlsx\", sheet_name='Store Locations Sheet')\n",
        "products_df = pd.read_excel(\"US_Regional_Sales_Data.xlsx\", sheet_name='Products Sheet')\n",
        "sales_team_df = pd.read_excel(\"US_Regional_Sales_Data.xlsx\", sheet_name='Sales Team Sheet')\n",
        "\n",
        "#Para validar, cambiamos el nombre del df\n",
        "customers_df.head()"
      ],
      "metadata": {
        "colab": {
          "base_uri": "https://localhost:8080/",
          "height": 206
        },
        "collapsed": true,
        "id": "ylSnDRjRjEEc",
        "outputId": "4de5574c-f12e-4f21-f188-7b72f9b326bf"
      },
      "execution_count": 9,
      "outputs": [
        {
          "output_type": "execute_result",
          "data": {
            "text/plain": [
              "   _CustomerID Customer Names\n",
              "0            1      Avon Corp\n",
              "1            2      WakeFern \n",
              "2            3   Elorac, Corp\n",
              "3            4      ETUDE Ltd\n",
              "4            5   Procter Corp"
            ],
            "text/html": [
              "\n",
              "  <div id=\"df-35f43eab-6ecc-404b-8fc7-4ec856645f46\" class=\"colab-df-container\">\n",
              "    <div>\n",
              "<style scoped>\n",
              "    .dataframe tbody tr th:only-of-type {\n",
              "        vertical-align: middle;\n",
              "    }\n",
              "\n",
              "    .dataframe tbody tr th {\n",
              "        vertical-align: top;\n",
              "    }\n",
              "\n",
              "    .dataframe thead th {\n",
              "        text-align: right;\n",
              "    }\n",
              "</style>\n",
              "<table border=\"1\" class=\"dataframe\">\n",
              "  <thead>\n",
              "    <tr style=\"text-align: right;\">\n",
              "      <th></th>\n",
              "      <th>_CustomerID</th>\n",
              "      <th>Customer Names</th>\n",
              "    </tr>\n",
              "  </thead>\n",
              "  <tbody>\n",
              "    <tr>\n",
              "      <th>0</th>\n",
              "      <td>1</td>\n",
              "      <td>Avon Corp</td>\n",
              "    </tr>\n",
              "    <tr>\n",
              "      <th>1</th>\n",
              "      <td>2</td>\n",
              "      <td>WakeFern</td>\n",
              "    </tr>\n",
              "    <tr>\n",
              "      <th>2</th>\n",
              "      <td>3</td>\n",
              "      <td>Elorac, Corp</td>\n",
              "    </tr>\n",
              "    <tr>\n",
              "      <th>3</th>\n",
              "      <td>4</td>\n",
              "      <td>ETUDE Ltd</td>\n",
              "    </tr>\n",
              "    <tr>\n",
              "      <th>4</th>\n",
              "      <td>5</td>\n",
              "      <td>Procter Corp</td>\n",
              "    </tr>\n",
              "  </tbody>\n",
              "</table>\n",
              "</div>\n",
              "    <div class=\"colab-df-buttons\">\n",
              "\n",
              "  <div class=\"colab-df-container\">\n",
              "    <button class=\"colab-df-convert\" onclick=\"convertToInteractive('df-35f43eab-6ecc-404b-8fc7-4ec856645f46')\"\n",
              "            title=\"Convert this dataframe to an interactive table.\"\n",
              "            style=\"display:none;\">\n",
              "\n",
              "  <svg xmlns=\"http://www.w3.org/2000/svg\" height=\"24px\" viewBox=\"0 -960 960 960\">\n",
              "    <path d=\"M120-120v-720h720v720H120Zm60-500h600v-160H180v160Zm220 220h160v-160H400v160Zm0 220h160v-160H400v160ZM180-400h160v-160H180v160Zm440 0h160v-160H620v160ZM180-180h160v-160H180v160Zm440 0h160v-160H620v160Z\"/>\n",
              "  </svg>\n",
              "    </button>\n",
              "\n",
              "  <style>\n",
              "    .colab-df-container {\n",
              "      display:flex;\n",
              "      gap: 12px;\n",
              "    }\n",
              "\n",
              "    .colab-df-convert {\n",
              "      background-color: #E8F0FE;\n",
              "      border: none;\n",
              "      border-radius: 50%;\n",
              "      cursor: pointer;\n",
              "      display: none;\n",
              "      fill: #1967D2;\n",
              "      height: 32px;\n",
              "      padding: 0 0 0 0;\n",
              "      width: 32px;\n",
              "    }\n",
              "\n",
              "    .colab-df-convert:hover {\n",
              "      background-color: #E2EBFA;\n",
              "      box-shadow: 0px 1px 2px rgba(60, 64, 67, 0.3), 0px 1px 3px 1px rgba(60, 64, 67, 0.15);\n",
              "      fill: #174EA6;\n",
              "    }\n",
              "\n",
              "    .colab-df-buttons div {\n",
              "      margin-bottom: 4px;\n",
              "    }\n",
              "\n",
              "    [theme=dark] .colab-df-convert {\n",
              "      background-color: #3B4455;\n",
              "      fill: #D2E3FC;\n",
              "    }\n",
              "\n",
              "    [theme=dark] .colab-df-convert:hover {\n",
              "      background-color: #434B5C;\n",
              "      box-shadow: 0px 1px 3px 1px rgba(0, 0, 0, 0.15);\n",
              "      filter: drop-shadow(0px 1px 2px rgba(0, 0, 0, 0.3));\n",
              "      fill: #FFFFFF;\n",
              "    }\n",
              "  </style>\n",
              "\n",
              "    <script>\n",
              "      const buttonEl =\n",
              "        document.querySelector('#df-35f43eab-6ecc-404b-8fc7-4ec856645f46 button.colab-df-convert');\n",
              "      buttonEl.style.display =\n",
              "        google.colab.kernel.accessAllowed ? 'block' : 'none';\n",
              "\n",
              "      async function convertToInteractive(key) {\n",
              "        const element = document.querySelector('#df-35f43eab-6ecc-404b-8fc7-4ec856645f46');\n",
              "        const dataTable =\n",
              "          await google.colab.kernel.invokeFunction('convertToInteractive',\n",
              "                                                    [key], {});\n",
              "        if (!dataTable) return;\n",
              "\n",
              "        const docLinkHtml = 'Like what you see? Visit the ' +\n",
              "          '<a target=\"_blank\" href=https://colab.research.google.com/notebooks/data_table.ipynb>data table notebook</a>'\n",
              "          + ' to learn more about interactive tables.';\n",
              "        element.innerHTML = '';\n",
              "        dataTable['output_type'] = 'display_data';\n",
              "        await google.colab.output.renderOutput(dataTable, element);\n",
              "        const docLink = document.createElement('div');\n",
              "        docLink.innerHTML = docLinkHtml;\n",
              "        element.appendChild(docLink);\n",
              "      }\n",
              "    </script>\n",
              "  </div>\n",
              "\n",
              "\n",
              "<div id=\"df-7410b96b-2312-4e73-99a6-c425204c7df0\">\n",
              "  <button class=\"colab-df-quickchart\" onclick=\"quickchart('df-7410b96b-2312-4e73-99a6-c425204c7df0')\"\n",
              "            title=\"Suggest charts\"\n",
              "            style=\"display:none;\">\n",
              "\n",
              "<svg xmlns=\"http://www.w3.org/2000/svg\" height=\"24px\"viewBox=\"0 0 24 24\"\n",
              "     width=\"24px\">\n",
              "    <g>\n",
              "        <path d=\"M19 3H5c-1.1 0-2 .9-2 2v14c0 1.1.9 2 2 2h14c1.1 0 2-.9 2-2V5c0-1.1-.9-2-2-2zM9 17H7v-7h2v7zm4 0h-2V7h2v10zm4 0h-2v-4h2v4z\"/>\n",
              "    </g>\n",
              "</svg>\n",
              "  </button>\n",
              "\n",
              "<style>\n",
              "  .colab-df-quickchart {\n",
              "      --bg-color: #E8F0FE;\n",
              "      --fill-color: #1967D2;\n",
              "      --hover-bg-color: #E2EBFA;\n",
              "      --hover-fill-color: #174EA6;\n",
              "      --disabled-fill-color: #AAA;\n",
              "      --disabled-bg-color: #DDD;\n",
              "  }\n",
              "\n",
              "  [theme=dark] .colab-df-quickchart {\n",
              "      --bg-color: #3B4455;\n",
              "      --fill-color: #D2E3FC;\n",
              "      --hover-bg-color: #434B5C;\n",
              "      --hover-fill-color: #FFFFFF;\n",
              "      --disabled-bg-color: #3B4455;\n",
              "      --disabled-fill-color: #666;\n",
              "  }\n",
              "\n",
              "  .colab-df-quickchart {\n",
              "    background-color: var(--bg-color);\n",
              "    border: none;\n",
              "    border-radius: 50%;\n",
              "    cursor: pointer;\n",
              "    display: none;\n",
              "    fill: var(--fill-color);\n",
              "    height: 32px;\n",
              "    padding: 0;\n",
              "    width: 32px;\n",
              "  }\n",
              "\n",
              "  .colab-df-quickchart:hover {\n",
              "    background-color: var(--hover-bg-color);\n",
              "    box-shadow: 0 1px 2px rgba(60, 64, 67, 0.3), 0 1px 3px 1px rgba(60, 64, 67, 0.15);\n",
              "    fill: var(--button-hover-fill-color);\n",
              "  }\n",
              "\n",
              "  .colab-df-quickchart-complete:disabled,\n",
              "  .colab-df-quickchart-complete:disabled:hover {\n",
              "    background-color: var(--disabled-bg-color);\n",
              "    fill: var(--disabled-fill-color);\n",
              "    box-shadow: none;\n",
              "  }\n",
              "\n",
              "  .colab-df-spinner {\n",
              "    border: 2px solid var(--fill-color);\n",
              "    border-color: transparent;\n",
              "    border-bottom-color: var(--fill-color);\n",
              "    animation:\n",
              "      spin 1s steps(1) infinite;\n",
              "  }\n",
              "\n",
              "  @keyframes spin {\n",
              "    0% {\n",
              "      border-color: transparent;\n",
              "      border-bottom-color: var(--fill-color);\n",
              "      border-left-color: var(--fill-color);\n",
              "    }\n",
              "    20% {\n",
              "      border-color: transparent;\n",
              "      border-left-color: var(--fill-color);\n",
              "      border-top-color: var(--fill-color);\n",
              "    }\n",
              "    30% {\n",
              "      border-color: transparent;\n",
              "      border-left-color: var(--fill-color);\n",
              "      border-top-color: var(--fill-color);\n",
              "      border-right-color: var(--fill-color);\n",
              "    }\n",
              "    40% {\n",
              "      border-color: transparent;\n",
              "      border-right-color: var(--fill-color);\n",
              "      border-top-color: var(--fill-color);\n",
              "    }\n",
              "    60% {\n",
              "      border-color: transparent;\n",
              "      border-right-color: var(--fill-color);\n",
              "    }\n",
              "    80% {\n",
              "      border-color: transparent;\n",
              "      border-right-color: var(--fill-color);\n",
              "      border-bottom-color: var(--fill-color);\n",
              "    }\n",
              "    90% {\n",
              "      border-color: transparent;\n",
              "      border-bottom-color: var(--fill-color);\n",
              "    }\n",
              "  }\n",
              "</style>\n",
              "\n",
              "  <script>\n",
              "    async function quickchart(key) {\n",
              "      const quickchartButtonEl =\n",
              "        document.querySelector('#' + key + ' button');\n",
              "      quickchartButtonEl.disabled = true;  // To prevent multiple clicks.\n",
              "      quickchartButtonEl.classList.add('colab-df-spinner');\n",
              "      try {\n",
              "        const charts = await google.colab.kernel.invokeFunction(\n",
              "            'suggestCharts', [key], {});\n",
              "      } catch (error) {\n",
              "        console.error('Error during call to suggestCharts:', error);\n",
              "      }\n",
              "      quickchartButtonEl.classList.remove('colab-df-spinner');\n",
              "      quickchartButtonEl.classList.add('colab-df-quickchart-complete');\n",
              "    }\n",
              "    (() => {\n",
              "      let quickchartButtonEl =\n",
              "        document.querySelector('#df-7410b96b-2312-4e73-99a6-c425204c7df0 button');\n",
              "      quickchartButtonEl.style.display =\n",
              "        google.colab.kernel.accessAllowed ? 'block' : 'none';\n",
              "    })();\n",
              "  </script>\n",
              "</div>\n",
              "\n",
              "    </div>\n",
              "  </div>\n"
            ],
            "application/vnd.google.colaboratory.intrinsic+json": {
              "type": "dataframe",
              "variable_name": "customers_df",
              "summary": "{\n  \"name\": \"customers_df\",\n  \"rows\": 50,\n  \"fields\": [\n    {\n      \"column\": \"_CustomerID\",\n      \"properties\": {\n        \"dtype\": \"number\",\n        \"std\": 14,\n        \"min\": 1,\n        \"max\": 50,\n        \"num_unique_values\": 50,\n        \"samples\": [\n          14,\n          40,\n          31\n        ],\n        \"semantic_type\": \"\",\n        \"description\": \"\"\n      }\n    },\n    {\n      \"column\": \"Customer Names\",\n      \"properties\": {\n        \"dtype\": \"string\",\n        \"num_unique_values\": 50,\n        \"samples\": [\n          \"Linde \",\n          \"Select \",\n          \"Uriel Group\"\n        ],\n        \"semantic_type\": \"\",\n        \"description\": \"\"\n      }\n    }\n  ]\n}"
            }
          },
          "metadata": {},
          "execution_count": 9
        }
      ]
    },
    {
      "cell_type": "markdown",
      "source": [
        "2. Cruza todos los DataFrames usando validación many_to_one, y guarda el resultado en una nueva variable llamada df_base."
      ],
      "metadata": {
        "id": "5w8k1yR_l28r"
      }
    },
    {
      "cell_type": "code",
      "source": [
        "#con esto validamos que existan muchas ventas o registros de ventas pero una sola coincidencia para customer, store, productos o sales team.\n",
        "df_base = sales_df.merge(customers_df, how='left', on='_CustomerID', validate='m:1')\\\n",
        "                  .merge(stores_df, how='left', on='_StoreID', validate='m:1')\\\n",
        "                  .merge(products_df, how='left', on='_ProductID', validate='m:1')\\\n",
        "                  .merge(sales_team_df, how='left', on='_SalesTeamID', validate='m:1')\n",
        "\n",
        "print(df_base)\n",
        "\n"
      ],
      "metadata": {
        "colab": {
          "base_uri": "https://localhost:8080/"
        },
        "id": "8l19e8q0lNmi",
        "outputId": "76f74c6c-21e9-4e14-e106-d6ce79e23c0d"
      },
      "execution_count": 17,
      "outputs": [
        {
          "output_type": "stream",
          "name": "stdout",
          "text": [
            "       OrderNumber Sales Channel WarehouseCode ProcuredDate  OrderDate  \\\n",
            "0      SO - 000101      In-Store  WARE-UHY1004   2017-12-31 2018-05-31   \n",
            "1      SO - 000102        Online  WARE-NMK1003   2017-12-31 2018-05-31   \n",
            "2      SO - 000103   Distributor  WARE-UHY1004   2017-12-31 2018-05-31   \n",
            "3      SO - 000104     Wholesale  WARE-NMK1003   2017-12-31 2018-05-31   \n",
            "4      SO - 000105   Distributor  WARE-NMK1003   2018-04-10 2018-05-31   \n",
            "...            ...           ...           ...          ...        ...   \n",
            "7986  SO - 0008087      In-Store  WARE-MKL1006   2020-09-26 2020-12-30   \n",
            "7987  SO - 0008088        Online  WARE-NMK1003   2020-09-26 2020-12-30   \n",
            "7988  SO - 0008089        Online  WARE-UHY1004   2020-09-26 2020-12-30   \n",
            "7989  SO - 0008090        Online  WARE-NMK1003   2020-09-26 2020-12-30   \n",
            "7990  SO - 0008091      In-Store  WARE-UHY1004   2020-09-26 2020-12-30   \n",
            "\n",
            "       ShipDate DeliveryDate CurrencyCode  _SalesTeamID  _CustomerID  ...  \\\n",
            "0    2018-06-14   2018-06-19          USD             6           15  ...   \n",
            "1    2018-06-22   2018-07-02          USD            14           20  ...   \n",
            "2    2018-06-21   2018-07-01          USD            21           16  ...   \n",
            "3    2018-06-02   2018-06-07          USD            28           48  ...   \n",
            "4    2018-06-16   2018-06-26          USD            22           49  ...   \n",
            "...         ...          ...          ...           ...          ...  ...   \n",
            "7986 2021-01-07   2021-01-14          USD             9           41  ...   \n",
            "7987 2021-01-02   2021-01-04          USD            14           29  ...   \n",
            "7988 2021-01-23   2021-01-26          USD            14           32  ...   \n",
            "7989 2021-01-20   2021-01-25          USD            20           42  ...   \n",
            "7990 2021-01-13   2021-01-19          USD             6           41  ...   \n",
            "\n",
            "      AreaCode  Population  Household Income  Median Income  Land Area  \\\n",
            "0          631      213776             68789          80327  135481314   \n",
            "1          913      186515             74830          72463  194562941   \n",
            "2          734      117070             47179          55990   72727009   \n",
            "3          203      130322             49771          37192   48407373   \n",
            "4          203      108802             40213          40467   73880017   \n",
            "...        ...         ...               ...            ...        ...   \n",
            "7986       325      100450             36409          44802  155255892   \n",
            "7987       337      127657             50025          46517  139369271   \n",
            "7988       603      110229             45145          54282   85627013   \n",
            "7989       203      108802             40213          40467   73880017   \n",
            "7990       336      241218             93267          39882  343173025   \n",
            "\n",
            "      Water Area         Time Zone      Product Name      Sales Team  \\\n",
            "0      160302131  America/New York  Dining Furniture  Joshua Bennett   \n",
            "1        1309517   America/Chicago           Wreaths     Paul Holmes   \n",
            "2        2254528   America/Detroit          Stemware   Samuel Fowler   \n",
            "3        3739487  America/New York       Accessories   Carlos Miller   \n",
            "4        1086045  America/New York           Candles       Joe Price   \n",
            "...          ...               ...               ...             ...   \n",
            "7986     5940332   America/Chicago          Pendants     Joshua Ryan   \n",
            "7987      259576   America/Chicago       Table Lamps     Paul Holmes   \n",
            "7988     4850146  America/New York      Table Linens     Paul Holmes   \n",
            "7989     1086045  America/New York            Clocks  Anthony Torres   \n",
            "7990     3173027  America/New York           Festive  Joshua Bennett   \n",
            "\n",
            "         Region  \n",
            "0     Northeast  \n",
            "1       Midwest  \n",
            "2       Midwest  \n",
            "3          West  \n",
            "4     Northeast  \n",
            "...         ...  \n",
            "7986    Midwest  \n",
            "7987    Midwest  \n",
            "7988    Midwest  \n",
            "7989       West  \n",
            "7990  Northeast  \n",
            "\n",
            "[7991 rows x 34 columns]\n"
          ]
        }
      ]
    },
    {
      "cell_type": "markdown",
      "source": [
        "3. Agrega las siguientes columnas a df_ base:\n",
        "\n",
        "hint: Asegúrate de que las columnas sean de tipo datetime"
      ],
      "metadata": {
        "id": "UwSV1ONjrBwf"
      }
    },
    {
      "cell_type": "code",
      "source": [
        "#primero nos aseguramos que las columnas sean de tipo datetime\n",
        "df_base['OrderDate'] = pd.to_datetime(df_base['OrderDate'])\n",
        "df_base['ProcuredDate'] = pd.to_datetime(df_base['ProcuredDate'])\n",
        "df_base['ShipDate'] =   pd.to_datetime(df_base['ShipDate'])\n",
        "df_base['DeliveryDate'] = pd.to_datetime(df_base['DeliveryDate'])\n",
        "\n",
        "# Agregar las columnas solicitadas\n",
        "df_base['ProcurementDays'] = (df_base['OrderDate'] - df_base['ProcuredDate']).dt.days\n",
        "df_base['ShippingDays'] = (df_base['ShipDate'] - df_base['OrderDate']).dt.days\n",
        "df_base['DeliveryDays'] = (df_base['DeliveryDate'] - df_base['ShipDate']).dt.days\n",
        "df_base['CustomerDays'] = df_base['ShippingDays'] + df_base['DeliveryDays']\n",
        "\n",
        "# validamos el formato datetime\n",
        "print(df_base[['OrderDate', 'ProcuredDate', 'ShipDate', 'DeliveryDate']].head())\n",
        "\n",
        "# Agregar un salto de línea\n",
        "print(\"\\n\")\n",
        "\n",
        "# revisamos los calculos realizados\n",
        "print(df_base[['ProcurementDays', 'ShippingDays', 'DeliveryDays', 'CustomerDays']].head())\n"
      ],
      "metadata": {
        "colab": {
          "base_uri": "https://localhost:8080/"
        },
        "id": "f5aElJWrrw70",
        "outputId": "c9d07f02-630a-4206-f75e-9bf47c99ca9b"
      },
      "execution_count": 29,
      "outputs": [
        {
          "output_type": "stream",
          "name": "stdout",
          "text": [
            "   OrderDate ProcuredDate   ShipDate DeliveryDate\n",
            "0 2018-05-31   2017-12-31 2018-06-14   2018-06-19\n",
            "1 2018-05-31   2017-12-31 2018-06-22   2018-07-02\n",
            "2 2018-05-31   2017-12-31 2018-06-21   2018-07-01\n",
            "3 2018-05-31   2017-12-31 2018-06-02   2018-06-07\n",
            "4 2018-05-31   2018-04-10 2018-06-16   2018-06-26\n",
            "\n",
            "\n",
            "   ProcurementDays  ShippingDays  DeliveryDays  CustomerDays\n",
            "0              151            14             5            19\n",
            "1              151            22            10            32\n",
            "2              151            21            10            31\n",
            "3              151             2             5             7\n",
            "4               51            16            10            26\n"
          ]
        }
      ]
    },
    {
      "cell_type": "markdown",
      "source": [
        "4. Agrega una nueva columna discreta al df_base, con el nombre CustomerDaysInterval\n",
        "que clasifique los valores de la columna CustomerDays en los siguientes intervalos:\n",
        "\n",
        "* 0 to 15 days\n",
        "* 15 to 30 days\n",
        "* 30 to 45 days\n",
        "* 45 to 60 days\n",
        "* 60 to 75 days\n",
        "* 75 to 90 days\n",
        "\n",
        "\n",
        "hint: Utiliza pd.cut con estas etiquetas de Intervalo. Puedes utilizar la propiedad `.dt.days` para convertir la columna CustomerDays a valores numéricos.\n",
        "\n",
        "La propiedad `.dt.days` te permite obtener directamente la representación numérica de la diferencia en días a partir de un objeto DateInterval"
      ],
      "metadata": {
        "id": "FwMMVeIrtTnK"
      }
    },
    {
      "cell_type": "code",
      "source": [
        "#primero definimos intervalos\n",
        "bins = [0, 15, 30, 45, 60, 75, 90]\n",
        "\n",
        "#Despues definimos etiquetas correspondientes para cada intervalo\n",
        "labels = ['0 to 15 days', '15 to 30 days', '30 to 45 days', '45 to 60 days', '60 to 75 days', '75 to 90 days']\n",
        "\n",
        "# Creamos CustomerDaysInterval usando pd.cut()\n",
        "df_base['CustomerDaysInterval'] = pd.cut(df_base['CustomerDays'], bins=bins, labels=labels, right=False)\n",
        "\n",
        "print(df_base[['CustomerDays', 'CustomerDaysInterval']].head())"
      ],
      "metadata": {
        "colab": {
          "base_uri": "https://localhost:8080/"
        },
        "id": "4rocqAfctX7I",
        "outputId": "bdb7fc45-a10c-4291-fc98-d7020aadd712"
      },
      "execution_count": 30,
      "outputs": [
        {
          "output_type": "stream",
          "name": "stdout",
          "text": [
            "   CustomerDays CustomerDaysInterval\n",
            "0            19        15 to 30 days\n",
            "1            32        30 to 45 days\n",
            "2            31        30 to 45 days\n",
            "3             7         0 to 15 days\n",
            "4            26        15 to 30 days\n"
          ]
        }
      ]
    },
    {
      "cell_type": "markdown",
      "source": [
        "5. Utiliza una tabla pivote para mostrar el conteo de órdenes agrupando por Sales\n",
        "Team en las filas y CustomerDaysInterval en las columnas.\n",
        "\n",
        "Este reporte debe cuadrar con los datos de la pestaña Reporte1 del archivo reportes.xlsx"
      ],
      "metadata": {
        "id": "UQbLR14_zVtW"
      }
    },
    {
      "cell_type": "code",
      "source": [
        "#Primero creamos la tabla pivote con el conteo de órdenes, agrupado por 'Sales Team' y 'CustomerDaysInterval'\n",
        "pivot_table = pd.pivot_table(df_base,\n",
        "                             values='OrderNumber',\n",
        "                             index='Sales Team',\n",
        "                             columns='CustomerDaysInterval',\n",
        "                             aggfunc='count',\n",
        "                             fill_value=0)\n",
        "\n",
        "print(pivot_table)\n"
      ],
      "metadata": {
        "colab": {
          "base_uri": "https://localhost:8080/"
        },
        "id": "_SpaK1CazaOg",
        "outputId": "17294afb-43dd-40e6-e9a8-29d5defe78fc"
      },
      "execution_count": 32,
      "outputs": [
        {
          "output_type": "stream",
          "name": "stdout",
          "text": [
            "CustomerDaysInterval  0 to 15 days  15 to 30 days  30 to 45 days  \\\n",
            "Sales Team                                                         \n",
            "Adam Hernandez                  71            176             55   \n",
            "Anthony Berry                   69            176             53   \n",
            "Anthony Torres                  70            160             58   \n",
            "Carl Nguyen                     85            184             45   \n",
            "Carlos Miller                   56            145             46   \n",
            "Chris Armstrong                 86            152             54   \n",
            "Donald Reynolds                 87            167             42   \n",
            "Douglas Tucker                  76            148             53   \n",
            "Frank Brown                     71            156             48   \n",
            "George Lewis                    92            169             54   \n",
            "Jerry Green                     81            162             53   \n",
            "Joe Price                       80            129             57   \n",
            "Jonathan Hawkins                74            141             45   \n",
            "Joshua Bennett                  79            148             38   \n",
            "Joshua Little                   74            166             49   \n",
            "Joshua Ryan                     76            166             43   \n",
            "Keith Griffin                   84            130             32   \n",
            "Nicholas Cunningham             79            167             47   \n",
            "Patrick Graham                  78            139             42   \n",
            "Paul Holmes                     51            163             47   \n",
            "Roger Alexander                 65            159             47   \n",
            "Roy Rice                        65            166             53   \n",
            "Samuel Fowler                   81            164             51   \n",
            "Shawn Cook                      75            175             53   \n",
            "Shawn Torres                    68            164             42   \n",
            "Shawn Wallace                   86            173             57   \n",
            "Stephen Payne                   87            151             45   \n",
            "Todd Roberts                   103            185             52   \n",
            "\n",
            "CustomerDaysInterval  45 to 60 days  60 to 75 days  75 to 90 days  \n",
            "Sales Team                                                         \n",
            "Adam Hernandez                    0              0              0  \n",
            "Anthony Berry                     0              0              0  \n",
            "Anthony Torres                    0              0              0  \n",
            "Carl Nguyen                       0              0              0  \n",
            "Carlos Miller                     0              0              0  \n",
            "Chris Armstrong                   0              0              0  \n",
            "Donald Reynolds                   0              0              0  \n",
            "Douglas Tucker                    0              0              0  \n",
            "Frank Brown                       0              0              0  \n",
            "George Lewis                      0              0              0  \n",
            "Jerry Green                       0              0              0  \n",
            "Joe Price                         0              0              0  \n",
            "Jonathan Hawkins                  0              0              0  \n",
            "Joshua Bennett                    0              0              0  \n",
            "Joshua Little                     0              0              0  \n",
            "Joshua Ryan                       0              0              0  \n",
            "Keith Griffin                     0              0              0  \n",
            "Nicholas Cunningham               0              0              0  \n",
            "Patrick Graham                    0              0              0  \n",
            "Paul Holmes                       0              0              0  \n",
            "Roger Alexander                   0              0              0  \n",
            "Roy Rice                          0              0              0  \n",
            "Samuel Fowler                     0              0              0  \n",
            "Shawn Cook                        0              0              0  \n",
            "Shawn Torres                      0              0              0  \n",
            "Shawn Wallace                     0              0              0  \n",
            "Stephen Payne                     0              0              0  \n",
            "Todd Roberts                      0              0              0  \n"
          ]
        }
      ]
    },
    {
      "cell_type": "markdown",
      "source": [
        "6. Agrega la siguiente columna calculada a la base:\n",
        "\n",
        "\n",
        "KPI Cálculo\n",
        "GrossMargin = OrderQuantity*(UnitPrice*(1-Discount Applied)-UnitCost)\n",
        "\n",
        "Visión de Negocio: El margen bruto es un indicador financiero que muestra la diferencia entrelos ingresos generados por la venta de un producto o servicio y los costos directos asociados con su producción o adquisición."
      ],
      "metadata": {
        "id": "HkgSf1H71BO-"
      }
    },
    {
      "cell_type": "code",
      "source": [
        "# Calcular margen bruto\n",
        "df_base['GrossMargin'] = df_base['Order Quantity'] * ((df_base['Unit Price'] * (1 - df_base['Discount Applied'])) - df_base['Unit Cost'])\n",
        "\n",
        "#print(df_base.head()) para validar info completa\n",
        "\n",
        "#Realizamos el llamado a las columnas de importancia para el ejercicio\n",
        "print(df_base[['Order Quantity', 'Unit Price', 'Discount Applied', 'Unit Cost', 'GrossMargin']].head())\n",
        "\n"
      ],
      "metadata": {
        "colab": {
          "base_uri": "https://localhost:8080/"
        },
        "id": "LWcx9rer1BXH",
        "outputId": "401283c8-3e60-43cb-9244-7ac379052288"
      },
      "execution_count": 39,
      "outputs": [
        {
          "output_type": "stream",
          "name": "stdout",
          "text": [
            "   Order Quantity  Unit Price  Discount Applied  Unit Cost  GrossMargin\n",
            "0               5      1963.1             0.075   1001.181    4073.4325\n",
            "1               3      3939.6             0.075   3348.660     886.4100\n",
            "2               1      1775.5             0.050    781.220     905.5050\n",
            "3               8      2324.9             0.075   1464.687    5486.7640\n",
            "4               8      1822.4             0.100   1476.144    1312.1280\n"
          ]
        }
      ]
    },
    {
      "cell_type": "markdown",
      "source": [
        "7. En esta parte debes aplicar un porcentaje a la columna GrossMargin, pero ese\n",
        "porcentaje dependerá del intervalo en que se encuentre GrossMargin.\n",
        "\n",
        "KPI Cálculo = **CommissionsPercentage** % de comisión según la tabla de comisiones\n",
        "\n",
        "hint: Utiliza pd.cut con labels numéricas para que la columna resultante sea de tipo float."
      ],
      "metadata": {
        "id": "fsDvaU8S6nFm"
      }
    },
    {
      "cell_type": "code",
      "source": [
        "#Primero veremos un margen GrossMargin\n",
        "bins = [0, 100, 1000, 10000, 100000]\n",
        "\n",
        "#Despues definimos etiquetas con los porcentajes de comisión, esto lo realizaremos con float\n",
        "labels = [0.05, 0.10, 0.15, 0.20]\n",
        "\n",
        "#CommissionsPercentage usando pd.cut\n",
        "df_base['CommissionsPercentage'] = pd.cut(df_base['GrossMargin'], bins=bins, labels=labels, right=False)\n",
        "\n",
        "#aplicamos astype para asegurarnos del resultado\n",
        "df_base['CommissionsPercentage'] = df_base['CommissionsPercentage'].astype(float)\n",
        "\n",
        "print(df_base[['GrossMargin', 'CommissionsPercentage']].head())"
      ],
      "metadata": {
        "colab": {
          "base_uri": "https://localhost:8080/"
        },
        "id": "XqQJOsGT6nMH",
        "outputId": "b9a2ac3e-f37a-4466-b2ec-405ebcea0d42"
      },
      "execution_count": 44,
      "outputs": [
        {
          "output_type": "stream",
          "name": "stdout",
          "text": [
            "   GrossMargin  CommissionsPercentage\n",
            "0    4073.4325                   0.15\n",
            "1     886.4100                   0.10\n",
            "2     905.5050                   0.10\n",
            "3    5486.7640                   0.15\n",
            "4    1312.1280                   0.15\n"
          ]
        }
      ]
    },
    {
      "cell_type": "markdown",
      "source": [
        "8. Calcula el monto de la comisión, utilizando la Tabla del Anexo.\n",
        "\n",
        "KPI Cálculo\n",
        "CommissionsAmount\n",
        "\n",
        "GrossMargin*CommissionsPercentage\n",
        "\n",
        "Intervalo Comisión\n",
        "* GrossMargin entre $0 y $100 5%*  \n",
        "* GrossMargin entre $100 y $1000 10%\n",
        "* GrossMargin entre $1000 y $10000 15%\n",
        "* GrossMargin entre $10000 y $100000 20%\n"
      ],
      "metadata": {
        "id": "mje-g-fa9P4l"
      }
    },
    {
      "cell_type": "code",
      "source": [
        "#Realizamos la formula que nos muestran en la pregunta 8, basicamente una multiplicacion de las columnas ya trabajadas dado que ya tomamos en consideracion la tabla anexa de comision\n",
        "df_base['CommissionsAmount'] = df_base['GrossMargin'] * df_base['CommissionsPercentage']\n",
        "\n",
        "#imprimimos\n",
        "print(df_base[['GrossMargin', 'CommissionsPercentage', 'CommissionsAmount']].head())\n"
      ],
      "metadata": {
        "colab": {
          "base_uri": "https://localhost:8080/"
        },
        "id": "nUBbFVZE7v1W",
        "outputId": "33b9b4f1-8d12-4031-e572-297234c4c08b"
      },
      "execution_count": 45,
      "outputs": [
        {
          "output_type": "stream",
          "name": "stdout",
          "text": [
            "   GrossMargin  CommissionsPercentage  CommissionsAmount\n",
            "0    4073.4325                   0.15         611.014875\n",
            "1     886.4100                   0.10          88.641000\n",
            "2     905.5050                   0.10          90.550500\n",
            "3    5486.7640                   0.15         823.014600\n",
            "4    1312.1280                   0.15         196.819200\n"
          ]
        }
      ]
    },
    {
      "cell_type": "markdown",
      "source": [
        "9. Calcula la comisión sobre el margen bruto.\n",
        "\n",
        "KPI Cálculo\n",
        "NetMargin\n",
        "\n",
        "GrossMargin-CommissionsAmount\n"
      ],
      "metadata": {
        "id": "x5OgQspa-Bdp"
      }
    },
    {
      "cell_type": "code",
      "source": [
        "#Realizamos la formula que nos muestran en la pregunta 8, basicamente una multiplicacion de las columnas ya trabajadas\n",
        "df_base['NetMargin'] = df_base['GrossMargin'] - df_base['CommissionsAmount']\n",
        "\n",
        "#imprimimos los 3 valores para validar\n",
        "print(df_base[['GrossMargin', 'CommissionsAmount', 'NetMargin']].head())\n"
      ],
      "metadata": {
        "colab": {
          "base_uri": "https://localhost:8080/"
        },
        "id": "ZBBLrHba-Bi7",
        "outputId": "0ec4c715-328b-4c5d-e4a6-b32058fd6596"
      },
      "execution_count": 59,
      "outputs": [
        {
          "output_type": "stream",
          "name": "stdout",
          "text": [
            "   GrossMargin  CommissionsAmount    NetMargin\n",
            "0    4073.4325         611.014875  3462.417625\n",
            "1     886.4100          88.641000   797.769000\n",
            "2     905.5050          90.550500   814.954500\n",
            "3    5486.7640         823.014600  4663.749400\n",
            "4    1312.1280         196.819200  1115.308800\n"
          ]
        }
      ]
    },
    {
      "cell_type": "code",
      "source": [
        "print(df_base[['GrossMargin', 'CommissionsAmount','NetMargin','CommissionsPercentage']].head(10))\n",
        "\n",
        "#validacion simple 4073.4325 − 611.014875 = 3462.417625 == al 0.15 %"
      ],
      "metadata": {
        "colab": {
          "base_uri": "https://localhost:8080/"
        },
        "id": "VCg_ZEZR-l_Z",
        "outputId": "c93e1211-e815-419d-9029-53a36a6a4f4f"
      },
      "execution_count": 50,
      "outputs": [
        {
          "output_type": "stream",
          "name": "stdout",
          "text": [
            "   GrossMargin  CommissionsAmount    NetMargin  CommissionsPercentage\n",
            "0    4073.4325         611.014875  3462.417625                   0.15\n",
            "1     886.4100          88.641000   797.769000                   0.10\n",
            "2     905.5050          90.550500   814.954500                   0.10\n",
            "3    5486.7640         823.014600  4663.749400                   0.15\n",
            "4    1312.1280         196.819200  1115.308800                   0.15\n",
            "5    2700.1000         405.015000  2295.085000                   0.15\n",
            "6    1908.1600         286.224000  1621.936000                   0.15\n",
            "7     998.6350          99.863500   898.771500                   0.10\n",
            "8    2017.2360         302.585400  1714.650600                   0.15\n",
            "9    5164.8960         774.734400  4390.161600                   0.15\n"
          ]
        }
      ]
    },
    {
      "cell_type": "markdown",
      "source": [
        "10. Utilizando una tabla pivote, muestra la suma de los valores GrossMargin, NetMargin y CommissionAmount agrupando por Sales Team en las filas.\n",
        "\n",
        "Este reporte debe cuadrar con los datos de la pestaña Reporte2 del archivo reportes.xlsx\n",
        "\n",
        "Intervalo Comisión\n",
        "* GrossMargin entre $0 y $100 5%*  \n",
        "* GrossMargin entre $100 y $1000 10%\n",
        "* GrossMargin entre $1000 y $10000 15%\n",
        "* GrossMargin entre $10000 y $100000 20%\n"
      ],
      "metadata": {
        "id": "pDfCRl6__-Aa"
      }
    },
    {
      "cell_type": "code",
      "source": [
        "#Creamos tabla pivot con los tres valores anteriores y sumandolos\n",
        "pivot_table_sales_team = pd.pivot_table(df_base,\n",
        "                             values=['GrossMargin', 'NetMargin', 'CommissionsAmount'],\n",
        "                             index='Sales Team',\n",
        "                             aggfunc='sum',\n",
        "                             fill_value=0)\n",
        "\n",
        "#imprimimos la tabla\n",
        "print(pivot_table_sales_team)\n",
        "\n",
        "#quizas una sugerencia al negocio es agregar el porcentaje (CommissionsPercentage)"
      ],
      "metadata": {
        "colab": {
          "base_uri": "https://localhost:8080/"
        },
        "id": "yMkGYOmE_-JD",
        "outputId": "5c656172-1375-40e3-adba-f3818a6e5371"
      },
      "execution_count": 55,
      "outputs": [
        {
          "output_type": "stream",
          "name": "stdout",
          "text": [
            "                     CommissionsAmount  GrossMargin      NetMargin\n",
            "Sales Team                                                        \n",
            "Adam Hernandez           126637.207525  779095.1955  677987.332975\n",
            "Anthony Berry            124061.181475  767943.9500  654798.341525\n",
            "Anthony Torres           117962.211675  743901.4355  636758.048825\n",
            "Carl Nguyen              123843.212050  774781.4675  661874.732450\n",
            "Carlos Miller            110882.093875  668752.9290  580326.019125\n",
            "Chris Armstrong          122565.707975  781608.7005  660857.419525\n",
            "Donald Reynolds          143768.338700  885386.8095  754038.260800\n",
            "Douglas Tucker           120806.403550  745528.5640  633786.054450\n",
            "Frank Brown              104839.466050  670881.2510  570076.792950\n",
            "George Lewis             136852.255325  839150.7460  710824.776675\n",
            "Jerry Green              126660.436425  788587.7555  670379.034075\n",
            "Joe Price                128822.930100  787707.4425  662662.106400\n",
            "Jonathan Hawkins         126216.945000  781391.5870  664629.883000\n",
            "Joshua Bennett           108049.111100  661726.5385  569242.063400\n",
            "Joshua Little            135806.234575  840321.1690  713901.232425\n",
            "Joshua Ryan              114204.905275  702157.8225  606904.872225\n",
            "Keith Griffin            112940.122825  675453.5990  599688.292175\n",
            "Nicholas Cunningham      127833.003425  792644.9405  683164.577075\n",
            "Patrick Graham           121650.864850  746394.0030  632286.065150\n",
            "Paul Holmes              114224.889700  705564.6050  598867.366300\n",
            "Roger Alexander          122487.895850  773027.6755  658323.839650\n",
            "Roy Rice                 134547.055000  831446.6170  706877.202000\n",
            "Samuel Fowler            129367.145975  793254.8750  671208.953025\n",
            "Shawn Cook               135986.295400  854878.0245  724349.214100\n",
            "Shawn Torres             114290.961750  705619.6120  600950.386250\n",
            "Shawn Wallace            116942.051250  726737.6770  624236.470750\n",
            "Stephen Payne            116111.480725  707156.7930  606241.582275\n",
            "Todd Roberts             125832.140550  794225.3700  692123.624450\n"
          ]
        }
      ]
    }
  ]
}